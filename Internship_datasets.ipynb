{
 "cells": [
  {
   "cell_type": "markdown",
   "metadata": {},
   "source": [
    "### Financial Analytics Challenge\n",
    "\n",
    "#### Description Of The Data: The data is of indices of specific sector based assets of a country. The following are the description of each attribute:\n",
    "\n",
    "- serial_number: Unique identifier for each tuple\n",
    "- time_stamp: The time at which the index value was recorded\n",
    "- Sector 1…..Sector 4: Combined index values of all assets attached to the specific sector.\n",
    "\n",
    "#### Objective Of The Problem: \n",
    "- The Objective of the problem is to predict the values for “Sector 3” variable along with corresponding serial number as in the Test dataset. Please note that all predictions are to be made on the Test dataset only. Please write all predictions to a CSV file and upload on the Skillenza platform. The sample submission file is given as an example of how the correct labels should be.\n",
    "\n",
    "#### Files Provided:\n",
    "- Training: All features including the variable to predict out of the test dataset. This data set is to be used for training and validation.\n",
    "- Test: The feature to predict is missing in this file and the same is to be predicted.\n",
    "- Sample Submission: This file is an example of how the correct submission file is to be written.\n",
    "\n",
    "\n",
    "#### Evaluation: \n",
    "- The submitted prediction file is compared with correct labels file using Root Mean Squared Error. The result is normalized to 100 using the stated normalization constant and reflected on the leader board.\n",
    "\n",
    "\n",
    "#### Evaluation Algorithm\n",
    "- Root Mean Square Error (RMSE)\n",
    "- normalization_constant 10000"
   ]
  },
  {
   "cell_type": "code",
   "execution_count": null,
   "metadata": {},
   "outputs": [],
   "source": []
  },
  {
   "cell_type": "markdown",
   "metadata": {},
   "source": [
    "## Importing the libraries :"
   ]
  },
  {
   "cell_type": "code",
   "execution_count": 1,
   "metadata": {},
   "outputs": [
    {
     "name": "stderr",
     "output_type": "stream",
     "text": [
      "C:\\Users\\Vishal\\AppData\\Local\\Continuum\\anaconda3\\lib\\site-packages\\statsmodels\\tools\\_testing.py:19: FutureWarning: pandas.util.testing is deprecated. Use the functions in the public API at pandas.testing instead.\n",
      "  import pandas.util.testing as tm\n"
     ]
    }
   ],
   "source": [
    "import pandas as pd\n",
    "import numpy as np\n",
    "import matplotlib.pyplot as plt\n",
    "import seaborn as sb\n",
    "%matplotlib inline"
   ]
  },
  {
   "cell_type": "markdown",
   "metadata": {},
   "source": [
    "## Importing the \"fs1_training.csv\" dataset :"
   ]
  },
  {
   "cell_type": "code",
   "execution_count": 2,
   "metadata": {},
   "outputs": [
    {
     "data": {
      "text/html": [
       "<div>\n",
       "<style scoped>\n",
       "    .dataframe tbody tr th:only-of-type {\n",
       "        vertical-align: middle;\n",
       "    }\n",
       "\n",
       "    .dataframe tbody tr th {\n",
       "        vertical-align: top;\n",
       "    }\n",
       "\n",
       "    .dataframe thead th {\n",
       "        text-align: right;\n",
       "    }\n",
       "</style>\n",
       "<table border=\"1\" class=\"dataframe\">\n",
       "  <thead>\n",
       "    <tr style=\"text-align: right;\">\n",
       "      <th></th>\n",
       "      <th>serial_number</th>\n",
       "      <th>time_stamp</th>\n",
       "      <th>Sector 1</th>\n",
       "      <th>Sector 2</th>\n",
       "      <th>Sector 3</th>\n",
       "      <th>Sector 4</th>\n",
       "    </tr>\n",
       "  </thead>\n",
       "  <tbody>\n",
       "    <tr>\n",
       "      <th>0</th>\n",
       "      <td>1</td>\n",
       "      <td>2016-03-21</td>\n",
       "      <td>1125.36</td>\n",
       "      <td>458.49</td>\n",
       "      <td>2048.98</td>\n",
       "      <td>1275.00</td>\n",
       "    </tr>\n",
       "    <tr>\n",
       "      <th>1</th>\n",
       "      <td>2</td>\n",
       "      <td>2016-03-18</td>\n",
       "      <td>1120.10</td>\n",
       "      <td>458.49</td>\n",
       "      <td>2048.98</td>\n",
       "      <td>1242.46</td>\n",
       "    </tr>\n",
       "    <tr>\n",
       "      <th>2</th>\n",
       "      <td>3</td>\n",
       "      <td>2016-03-17</td>\n",
       "      <td>1120.10</td>\n",
       "      <td>458.49</td>\n",
       "      <td>2048.98</td>\n",
       "      <td>1242.46</td>\n",
       "    </tr>\n",
       "    <tr>\n",
       "      <th>3</th>\n",
       "      <td>4</td>\n",
       "      <td>2016-03-16</td>\n",
       "      <td>1117.84</td>\n",
       "      <td>458.49</td>\n",
       "      <td>2048.98</td>\n",
       "      <td>1228.52</td>\n",
       "    </tr>\n",
       "    <tr>\n",
       "      <th>4</th>\n",
       "      <td>5</td>\n",
       "      <td>2016-03-15</td>\n",
       "      <td>1114.08</td>\n",
       "      <td>458.49</td>\n",
       "      <td>2048.98</td>\n",
       "      <td>1205.28</td>\n",
       "    </tr>\n",
       "  </tbody>\n",
       "</table>\n",
       "</div>"
      ],
      "text/plain": [
       "   serial_number  time_stamp  Sector 1  Sector 2  Sector 3  Sector 4\n",
       "0              1  2016-03-21   1125.36    458.49   2048.98   1275.00\n",
       "1              2  2016-03-18   1120.10    458.49   2048.98   1242.46\n",
       "2              3  2016-03-17   1120.10    458.49   2048.98   1242.46\n",
       "3              4  2016-03-16   1117.84    458.49   2048.98   1228.52\n",
       "4              5  2016-03-15   1114.08    458.49   2048.98   1205.28"
      ]
     },
     "execution_count": 2,
     "metadata": {},
     "output_type": "execute_result"
    }
   ],
   "source": [
    "d_train = pd.read_csv('fs1_training.csv')\n",
    "\n",
    "d_train.head()"
   ]
  },
  {
   "cell_type": "code",
   "execution_count": 3,
   "metadata": {},
   "outputs": [
    {
     "data": {
      "text/plain": [
       "(1049, 6)"
      ]
     },
     "execution_count": 3,
     "metadata": {},
     "output_type": "execute_result"
    }
   ],
   "source": [
    "d_train.shape"
   ]
  },
  {
   "cell_type": "code",
   "execution_count": 4,
   "metadata": {},
   "outputs": [
    {
     "name": "stdout",
     "output_type": "stream",
     "text": [
      "<class 'pandas.core.frame.DataFrame'>\n",
      "RangeIndex: 1049 entries, 0 to 1048\n",
      "Data columns (total 6 columns):\n",
      " #   Column         Non-Null Count  Dtype  \n",
      "---  ------         --------------  -----  \n",
      " 0   serial_number  1049 non-null   int64  \n",
      " 1   time_stamp     1049 non-null   object \n",
      " 2   Sector 1       1049 non-null   float64\n",
      " 3   Sector 2       1049 non-null   float64\n",
      " 4   Sector 3       1049 non-null   float64\n",
      " 5   Sector 4       1049 non-null   float64\n",
      "dtypes: float64(4), int64(1), object(1)\n",
      "memory usage: 49.3+ KB\n"
     ]
    }
   ],
   "source": [
    "d_train.info()"
   ]
  },
  {
   "cell_type": "code",
   "execution_count": 5,
   "metadata": {},
   "outputs": [
    {
     "data": {
      "text/plain": [
       "serial_number    0\n",
       "time_stamp       0\n",
       "Sector 1         0\n",
       "Sector 2         0\n",
       "Sector 3         0\n",
       "Sector 4         0\n",
       "dtype: int64"
      ]
     },
     "execution_count": 5,
     "metadata": {},
     "output_type": "execute_result"
    }
   ],
   "source": [
    "d_train.isnull().sum()"
   ]
  },
  {
   "cell_type": "code",
   "execution_count": 6,
   "metadata": {},
   "outputs": [
    {
     "data": {
      "text/html": [
       "<div>\n",
       "<style scoped>\n",
       "    .dataframe tbody tr th:only-of-type {\n",
       "        vertical-align: middle;\n",
       "    }\n",
       "\n",
       "    .dataframe tbody tr th {\n",
       "        vertical-align: top;\n",
       "    }\n",
       "\n",
       "    .dataframe thead th {\n",
       "        text-align: right;\n",
       "    }\n",
       "</style>\n",
       "<table border=\"1\" class=\"dataframe\">\n",
       "  <thead>\n",
       "    <tr style=\"text-align: right;\">\n",
       "      <th></th>\n",
       "      <th>serial_number</th>\n",
       "      <th>time_stamp</th>\n",
       "      <th>Sector 1</th>\n",
       "      <th>Sector 2</th>\n",
       "      <th>Sector 3</th>\n",
       "      <th>Sector 4</th>\n",
       "    </tr>\n",
       "  </thead>\n",
       "  <tbody>\n",
       "    <tr>\n",
       "      <th>count</th>\n",
       "      <td>1049.000000</td>\n",
       "      <td>1049</td>\n",
       "      <td>1049.000000</td>\n",
       "      <td>1049.000000</td>\n",
       "      <td>1049.000000</td>\n",
       "      <td>1049.000000</td>\n",
       "    </tr>\n",
       "    <tr>\n",
       "      <th>unique</th>\n",
       "      <td>NaN</td>\n",
       "      <td>1049</td>\n",
       "      <td>NaN</td>\n",
       "      <td>NaN</td>\n",
       "      <td>NaN</td>\n",
       "      <td>NaN</td>\n",
       "    </tr>\n",
       "    <tr>\n",
       "      <th>top</th>\n",
       "      <td>NaN</td>\n",
       "      <td>2013-06-19</td>\n",
       "      <td>NaN</td>\n",
       "      <td>NaN</td>\n",
       "      <td>NaN</td>\n",
       "      <td>NaN</td>\n",
       "    </tr>\n",
       "    <tr>\n",
       "      <th>freq</th>\n",
       "      <td>NaN</td>\n",
       "      <td>1</td>\n",
       "      <td>NaN</td>\n",
       "      <td>NaN</td>\n",
       "      <td>NaN</td>\n",
       "      <td>NaN</td>\n",
       "    </tr>\n",
       "    <tr>\n",
       "      <th>mean</th>\n",
       "      <td>525.000000</td>\n",
       "      <td>NaN</td>\n",
       "      <td>1114.234004</td>\n",
       "      <td>650.464405</td>\n",
       "      <td>1801.274260</td>\n",
       "      <td>1340.708251</td>\n",
       "    </tr>\n",
       "    <tr>\n",
       "      <th>std</th>\n",
       "      <td>302.964519</td>\n",
       "      <td>NaN</td>\n",
       "      <td>88.396753</td>\n",
       "      <td>149.793374</td>\n",
       "      <td>205.363957</td>\n",
       "      <td>143.356251</td>\n",
       "    </tr>\n",
       "    <tr>\n",
       "      <th>min</th>\n",
       "      <td>1.000000</td>\n",
       "      <td>NaN</td>\n",
       "      <td>114.270000</td>\n",
       "      <td>441.430000</td>\n",
       "      <td>1047.340000</td>\n",
       "      <td>14.580000</td>\n",
       "    </tr>\n",
       "    <tr>\n",
       "      <th>25%</th>\n",
       "      <td>263.000000</td>\n",
       "      <td>NaN</td>\n",
       "      <td>1042.583400</td>\n",
       "      <td>559.130000</td>\n",
       "      <td>1622.360000</td>\n",
       "      <td>1195.189900</td>\n",
       "    </tr>\n",
       "    <tr>\n",
       "      <th>50%</th>\n",
       "      <td>525.000000</td>\n",
       "      <td>NaN</td>\n",
       "      <td>1115.980000</td>\n",
       "      <td>594.530000</td>\n",
       "      <td>1770.760000</td>\n",
       "      <td>1333.130000</td>\n",
       "    </tr>\n",
       "    <tr>\n",
       "      <th>75%</th>\n",
       "      <td>787.000000</td>\n",
       "      <td>NaN</td>\n",
       "      <td>1191.939900</td>\n",
       "      <td>733.990000</td>\n",
       "      <td>2039.150000</td>\n",
       "      <td>1477.600000</td>\n",
       "    </tr>\n",
       "    <tr>\n",
       "      <th>max</th>\n",
       "      <td>1049.000000</td>\n",
       "      <td>NaN</td>\n",
       "      <td>1856.069900</td>\n",
       "      <td>1024.420000</td>\n",
       "      <td>2101.649900</td>\n",
       "      <td>1678.510000</td>\n",
       "    </tr>\n",
       "  </tbody>\n",
       "</table>\n",
       "</div>"
      ],
      "text/plain": [
       "        serial_number  time_stamp     Sector 1     Sector 2     Sector 3  \\\n",
       "count     1049.000000        1049  1049.000000  1049.000000  1049.000000   \n",
       "unique            NaN        1049          NaN          NaN          NaN   \n",
       "top               NaN  2013-06-19          NaN          NaN          NaN   \n",
       "freq              NaN           1          NaN          NaN          NaN   \n",
       "mean       525.000000         NaN  1114.234004   650.464405  1801.274260   \n",
       "std        302.964519         NaN    88.396753   149.793374   205.363957   \n",
       "min          1.000000         NaN   114.270000   441.430000  1047.340000   \n",
       "25%        263.000000         NaN  1042.583400   559.130000  1622.360000   \n",
       "50%        525.000000         NaN  1115.980000   594.530000  1770.760000   \n",
       "75%        787.000000         NaN  1191.939900   733.990000  2039.150000   \n",
       "max       1049.000000         NaN  1856.069900  1024.420000  2101.649900   \n",
       "\n",
       "           Sector 4  \n",
       "count   1049.000000  \n",
       "unique          NaN  \n",
       "top             NaN  \n",
       "freq            NaN  \n",
       "mean    1340.708251  \n",
       "std      143.356251  \n",
       "min       14.580000  \n",
       "25%     1195.189900  \n",
       "50%     1333.130000  \n",
       "75%     1477.600000  \n",
       "max     1678.510000  "
      ]
     },
     "execution_count": 6,
     "metadata": {},
     "output_type": "execute_result"
    }
   ],
   "source": [
    "d_train.describe(include='all')"
   ]
  },
  {
   "cell_type": "markdown",
   "metadata": {},
   "source": [
    "### Counting the Outlier in given dataset :"
   ]
  },
  {
   "cell_type": "code",
   "execution_count": 7,
   "metadata": {},
   "outputs": [
    {
     "data": {
      "text/plain": [
       "<matplotlib.axes._subplots.AxesSubplot at 0x16f51576148>"
      ]
     },
     "execution_count": 7,
     "metadata": {},
     "output_type": "execute_result"
    },
    {
     "data": {
      "image/png": "[encoded data removed]",
      "text/plain": [
       "<Figure size 432x288 with 1 Axes>"
      ]
     },
     "metadata": {
      "needs_background": "light"
     },
     "output_type": "display_data"
    }
   ],
   "source": [
    "sb.boxplot(d_train['Sector 1'])"
   ]
  },
  {
   "cell_type": "code",
   "execution_count": 8,
   "metadata": {},
   "outputs": [
    {
     "name": "stdout",
     "output_type": "stream",
     "text": [
      "149.3565000000001\n",
      "Outlier in Upper Bound:  1\n",
      "Outlier in Lower Bound:  1\n",
      "1415.97465 & 818.5486499999998\n",
      "The min value is 114.27 & The max value is  1856.0699\n"
     ]
    }
   ],
   "source": [
    "q1 = d_train['Sector 1'].quantile(0.25)\n",
    "q3 = d_train['Sector 1'].quantile(0.75) \n",
    "iqr = q3 - q1\n",
    "print(iqr)\n",
    "UB = q3 + 1.5 * iqr\n",
    "LB = q1 - 1.5 * iqr\n",
    "print('Outlier in Upper Bound: ',len(d_train[d_train['Sector 1']>UB]))\n",
    "print('Outlier in Lower Bound: ',len(d_train[d_train['Sector 1']<LB]))\n",
    "print(UB,'&',LB)\n",
    "print(\"The min value is\",d_train[\"Sector 1\"].min(),\"& The max value is \",d_train[\"Sector 1\"].max())"
   ]
  },
  {
   "cell_type": "code",
   "execution_count": 9,
   "metadata": {},
   "outputs": [
    {
     "data": {
      "text/plain": [
       "<matplotlib.axes._subplots.AxesSubplot at 0x16f518ab348>"
      ]
     },
     "execution_count": 9,
     "metadata": {},
     "output_type": "execute_result"
    },
    {
     "data": {
      "image/png": "[encoded data removed]",
      "text/plain": [
       "<Figure size 432x288 with 1 Axes>"
      ]
     },
     "metadata": {
      "needs_background": "light"
     },
     "output_type": "display_data"
    }
   ],
   "source": [
    "sb.boxplot(d_train['Sector 2'])"
   ]
  },
  {
   "cell_type": "code",
   "execution_count": 10,
   "metadata": {},
   "outputs": [
    {
     "name": "stdout",
     "output_type": "stream",
     "text": [
      "174.86\n",
      "Outlier in Upper Bound:  11\n",
      "Outlier in Lower Bound:  0\n",
      "996.28 & 296.84\n",
      "The min value is 441.43 & The max value is  1024.42\n"
     ]
    }
   ],
   "source": [
    "q1 = d_train['Sector 2'].quantile(0.25)\n",
    "q3 = d_train['Sector 2'].quantile(0.75) \n",
    "iqr = q3 - q1\n",
    "print(iqr)\n",
    "UB = q3 + 1.5 * iqr\n",
    "LB = q1 - 1.5 * iqr\n",
    "\n",
    "print('Outlier in Upper Bound: ',len(d_train[d_train['Sector 2']>UB]))\n",
    "print('Outlier in Lower Bound: ',len(d_train[d_train['Sector 2']<LB]))\n",
    "print(UB,'&',LB)\n",
    "print(\"The min value is\",d_train[\"Sector 2\"].min(),\"& The max value is \",d_train[\"Sector 2\"].max())"
   ]
  },
  {
   "cell_type": "code",
   "execution_count": null,
   "metadata": {},
   "outputs": [],
   "source": []
  },
  {
   "cell_type": "code",
   "execution_count": 11,
   "metadata": {},
   "outputs": [
    {
     "data": {
      "text/plain": [
       "<matplotlib.axes._subplots.AxesSubplot at 0x16f519326c8>"
      ]
     },
     "execution_count": 11,
     "metadata": {},
     "output_type": "execute_result"
    },
    {
     "data": {
      "image/png": "[encoded data removed]",
      "text/plain": [
       "<Figure size 432x288 with 1 Axes>"
      ]
     },
     "metadata": {
      "needs_background": "light"
     },
     "output_type": "display_data"
    }
   ],
   "source": [
    "sb.boxplot(d_train['Sector 3'])"
   ]
  },
  {
   "cell_type": "markdown",
   "metadata": {},
   "source": [
    "- There is No Outlier in $Sector 3$"
   ]
  },
  {
   "cell_type": "code",
   "execution_count": 12,
   "metadata": {},
   "outputs": [
    {
     "data": {
      "text/plain": [
       "<matplotlib.axes._subplots.AxesSubplot at 0x16f5193b4c8>"
      ]
     },
     "execution_count": 12,
     "metadata": {},
     "output_type": "execute_result"
    },
    {
     "data": {
      "image/png": "[encoded data removed]",
      "text/plain": [
       "<Figure size 432x288 with 1 Axes>"
      ]
     },
     "metadata": {
      "needs_background": "light"
     },
     "output_type": "display_data"
    }
   ],
   "source": [
    "sb.boxplot(d_train['Sector 4'])"
   ]
  },
  {
   "cell_type": "code",
   "execution_count": 13,
   "metadata": {},
   "outputs": [
    {
     "name": "stdout",
     "output_type": "stream",
     "text": [
      "282.41009999999983\n",
      "Outlier in Upper Bound:  0\n",
      "Outlier in Lower Bound:  1\n",
      "1901.2151499999995 & 771.5747500000003\n",
      "The min value is 14.58 & The max value is  1678.51\n"
     ]
    }
   ],
   "source": [
    "q1 = d_train['Sector 4'].quantile(0.25)\n",
    "q3 = d_train['Sector 4'].quantile(0.75) \n",
    "iqr = q3 - q1\n",
    "print(iqr)\n",
    "UB = q3 + 1.5 * iqr\n",
    "LB = q1 - 1.5 * iqr\n",
    "\n",
    "print('Outlier in Upper Bound: ',len(d_train[d_train['Sector 4']>UB]))\n",
    "print('Outlier in Lower Bound: ',len(d_train[d_train['Sector 4']<LB]))\n",
    "print(UB,'&',LB)\n",
    "print(\"The min value is\",d_train[\"Sector 4\"].min(),\"& The max value is \",d_train[\"Sector 4\"].max())"
   ]
  },
  {
   "cell_type": "markdown",
   "metadata": {},
   "source": [
    "### Feature Scalling on train data:"
   ]
  },
  {
   "cell_type": "code",
   "execution_count": 14,
   "metadata": {},
   "outputs": [],
   "source": [
    "#X = d_train.iloc[:, 2:].values\n",
    "X = d_train[['Sector 1','Sector 2','Sector 4']]\n",
    "y = d_train[['Sector 3']]\n",
    "\n",
    "X = X.values\n",
    "y = y.values"
   ]
  },
  {
   "cell_type": "code",
   "execution_count": 15,
   "metadata": {},
   "outputs": [
    {
     "data": {
      "text/plain": [
       "((1049, 3), (1049, 1))"
      ]
     },
     "execution_count": 15,
     "metadata": {},
     "output_type": "execute_result"
    }
   ],
   "source": [
    "X.shape , y.shape"
   ]
  },
  {
   "cell_type": "markdown",
   "metadata": {},
   "source": [
    "#### Use RobustScaler for Normalization if you want to reduce the effects of outliers, relative to MinMaxScaler."
   ]
  },
  {
   "cell_type": "code",
   "execution_count": 16,
   "metadata": {},
   "outputs": [
    {
     "data": {
      "text/plain": [
       "array([[ 0.06280276, -0.77799382, -0.20583541],\n",
       "       [ 0.02758501, -0.77799382, -0.32105792],\n",
       "       [ 0.02758501, -0.77799382, -0.32105792],\n",
       "       ...,\n",
       "       [-1.22173123,  0.91930687, -0.66205139],\n",
       "       [-1.18010264,  1.04374929, -0.65479245],\n",
       "       [-1.18010264,  1.04374929, -0.65479245]])"
      ]
     },
     "execution_count": 16,
     "metadata": {},
     "output_type": "execute_result"
    }
   ],
   "source": [
    "from sklearn.preprocessing import RobustScaler\n",
    "sc_X = RobustScaler()\n",
    "\n",
    "X = sc_X.fit_transform(X)\n",
    "X"
   ]
  },
  {
   "cell_type": "code",
   "execution_count": null,
   "metadata": {},
   "outputs": [],
   "source": []
  },
  {
   "cell_type": "code",
   "execution_count": null,
   "metadata": {},
   "outputs": [],
   "source": []
  },
  {
   "cell_type": "markdown",
   "metadata": {},
   "source": [
    "## Importing the \"test.csv\" dataset :"
   ]
  },
  {
   "cell_type": "code",
   "execution_count": 17,
   "metadata": {},
   "outputs": [
    {
     "data": {
      "text/html": [
       "<div>\n",
       "<style scoped>\n",
       "    .dataframe tbody tr th:only-of-type {\n",
       "        vertical-align: middle;\n",
       "    }\n",
       "\n",
       "    .dataframe tbody tr th {\n",
       "        vertical-align: top;\n",
       "    }\n",
       "\n",
       "    .dataframe thead th {\n",
       "        text-align: right;\n",
       "    }\n",
       "</style>\n",
       "<table border=\"1\" class=\"dataframe\">\n",
       "  <thead>\n",
       "    <tr style=\"text-align: right;\">\n",
       "      <th></th>\n",
       "      <th>serial_number</th>\n",
       "      <th>time_stamp</th>\n",
       "      <th>Sector 1</th>\n",
       "      <th>Sector 2</th>\n",
       "      <th>Sector 4</th>\n",
       "    </tr>\n",
       "  </thead>\n",
       "  <tbody>\n",
       "    <tr>\n",
       "      <th>0</th>\n",
       "      <td>1</td>\n",
       "      <td>2019-01-14</td>\n",
       "      <td>1411.0200</td>\n",
       "      <td>835.83</td>\n",
       "      <td>1756.5500</td>\n",
       "    </tr>\n",
       "    <tr>\n",
       "      <th>1</th>\n",
       "      <td>2</td>\n",
       "      <td>2019-01-11</td>\n",
       "      <td>1406.7500</td>\n",
       "      <td>837.81</td>\n",
       "      <td>1748.4100</td>\n",
       "    </tr>\n",
       "    <tr>\n",
       "      <th>2</th>\n",
       "      <td>3</td>\n",
       "      <td>2019-01-10</td>\n",
       "      <td>1406.8400</td>\n",
       "      <td>822.97</td>\n",
       "      <td>1740.2800</td>\n",
       "    </tr>\n",
       "    <tr>\n",
       "      <th>3</th>\n",
       "      <td>4</td>\n",
       "      <td>2019-01-09</td>\n",
       "      <td>1403.1801</td>\n",
       "      <td>822.97</td>\n",
       "      <td>1724.0000</td>\n",
       "    </tr>\n",
       "    <tr>\n",
       "      <th>4</th>\n",
       "      <td>5</td>\n",
       "      <td>2019-01-08</td>\n",
       "      <td>1408.4600</td>\n",
       "      <td>834.57</td>\n",
       "      <td>1719.9301</td>\n",
       "    </tr>\n",
       "  </tbody>\n",
       "</table>\n",
       "</div>"
      ],
      "text/plain": [
       "   serial_number  time_stamp   Sector 1  Sector 2   Sector 4\n",
       "0              1  2019-01-14  1411.0200    835.83  1756.5500\n",
       "1              2  2019-01-11  1406.7500    837.81  1748.4100\n",
       "2              3  2019-01-10  1406.8400    822.97  1740.2800\n",
       "3              4  2019-01-09  1403.1801    822.97  1724.0000\n",
       "4              5  2019-01-08  1408.4600    834.57  1719.9301"
      ]
     },
     "execution_count": 17,
     "metadata": {},
     "output_type": "execute_result"
    }
   ],
   "source": [
    "d_test = pd.read_csv('fs1_test.csv')\n",
    "\n",
    "d_test.head()"
   ]
  },
  {
   "cell_type": "code",
   "execution_count": 18,
   "metadata": {},
   "outputs": [
    {
     "data": {
      "text/plain": [
       "(698, 5)"
      ]
     },
     "execution_count": 18,
     "metadata": {},
     "output_type": "execute_result"
    }
   ],
   "source": [
    "d_test.shape"
   ]
  },
  {
   "cell_type": "code",
   "execution_count": 19,
   "metadata": {},
   "outputs": [
    {
     "name": "stdout",
     "output_type": "stream",
     "text": [
      "<class 'pandas.core.frame.DataFrame'>\n",
      "RangeIndex: 698 entries, 0 to 697\n",
      "Data columns (total 5 columns):\n",
      " #   Column         Non-Null Count  Dtype  \n",
      "---  ------         --------------  -----  \n",
      " 0   serial_number  698 non-null    int64  \n",
      " 1   time_stamp     698 non-null    object \n",
      " 2   Sector 1       698 non-null    float64\n",
      " 3   Sector 2       698 non-null    float64\n",
      " 4   Sector 4       698 non-null    float64\n",
      "dtypes: float64(3), int64(1), object(1)\n",
      "memory usage: 27.4+ KB\n"
     ]
    }
   ],
   "source": [
    "d_test.info()"
   ]
  },
  {
   "cell_type": "code",
   "execution_count": 20,
   "metadata": {},
   "outputs": [
    {
     "data": {
      "text/plain": [
       "serial_number    0\n",
       "time_stamp       0\n",
       "Sector 1         0\n",
       "Sector 2         0\n",
       "Sector 4         0\n",
       "dtype: int64"
      ]
     },
     "execution_count": 20,
     "metadata": {},
     "output_type": "execute_result"
    }
   ],
   "source": [
    "d_test.isnull().sum()"
   ]
  },
  {
   "cell_type": "code",
   "execution_count": 21,
   "metadata": {},
   "outputs": [
    {
     "data": {
      "text/plain": [
       "<matplotlib.axes._subplots.AxesSubplot at 0x16f51a13d48>"
      ]
     },
     "execution_count": 21,
     "metadata": {},
     "output_type": "execute_result"
    },
    {
     "data": {
      "image/png": "[encoded data removed]",
      "text/plain": [
       "<Figure size 432x288 with 1 Axes>"
      ]
     },
     "metadata": {
      "needs_background": "light"
     },
     "output_type": "display_data"
    }
   ],
   "source": [
    "sb.boxplot(d_test['Sector 2'])\n",
    "\n",
    "## No outlier in sector 1 and 4"
   ]
  },
  {
   "cell_type": "code",
   "execution_count": 22,
   "metadata": {},
   "outputs": [
    {
     "name": "stdout",
     "output_type": "stream",
     "text": [
      "140.36\n",
      "Outlier in Upper Bound:  81\n",
      "Outlier in Lower Bound:  0\n",
      "686.4000000000001 & 124.95999999999998\n",
      "The min value is 279.15 & The max value is  837.81\n"
     ]
    }
   ],
   "source": [
    "q1 = d_test['Sector 2'].quantile(0.25)\n",
    "q3 = d_test['Sector 2'].quantile(0.75) \n",
    "iqr = q3 - q1\n",
    "print(iqr)\n",
    "UB = q3 + 1.5 * iqr\n",
    "LB = q1 - 1.5 * iqr\n",
    "\n",
    "print('Outlier in Upper Bound: ',len(d_test[d_test['Sector 2']>UB]))\n",
    "print('Outlier in Lower Bound: ',len(d_test[d_test['Sector 2']<LB]))\n",
    "print(UB,'&',LB)\n",
    "print(\"The min value is\",d_test['Sector 2'].min(),\"& The max value is \",d_test['Sector 2'].max())"
   ]
  },
  {
   "cell_type": "code",
   "execution_count": 61,
   "metadata": {},
   "outputs": [
    {
     "data": {
      "text/html": [
       "<div>\n",
       "<style scoped>\n",
       "    .dataframe tbody tr th:only-of-type {\n",
       "        vertical-align: middle;\n",
       "    }\n",
       "\n",
       "    .dataframe tbody tr th {\n",
       "        vertical-align: top;\n",
       "    }\n",
       "\n",
       "    .dataframe thead th {\n",
       "        text-align: right;\n",
       "    }\n",
       "</style>\n",
       "<table border=\"1\" class=\"dataframe\">\n",
       "  <thead>\n",
       "    <tr style=\"text-align: right;\">\n",
       "      <th></th>\n",
       "      <th>serial_number</th>\n",
       "      <th>Sector 1</th>\n",
       "      <th>Sector 2</th>\n",
       "      <th>Sector 4</th>\n",
       "    </tr>\n",
       "  </thead>\n",
       "  <tbody>\n",
       "    <tr>\n",
       "      <th>0</th>\n",
       "      <td>1</td>\n",
       "      <td>1411.0200</td>\n",
       "      <td>835.83</td>\n",
       "      <td>1756.5500</td>\n",
       "    </tr>\n",
       "    <tr>\n",
       "      <th>1</th>\n",
       "      <td>2</td>\n",
       "      <td>1406.7500</td>\n",
       "      <td>837.81</td>\n",
       "      <td>1748.4100</td>\n",
       "    </tr>\n",
       "    <tr>\n",
       "      <th>2</th>\n",
       "      <td>3</td>\n",
       "      <td>1406.8400</td>\n",
       "      <td>822.97</td>\n",
       "      <td>1740.2800</td>\n",
       "    </tr>\n",
       "    <tr>\n",
       "      <th>3</th>\n",
       "      <td>4</td>\n",
       "      <td>1403.1801</td>\n",
       "      <td>822.97</td>\n",
       "      <td>1724.0000</td>\n",
       "    </tr>\n",
       "    <tr>\n",
       "      <th>4</th>\n",
       "      <td>5</td>\n",
       "      <td>1408.4600</td>\n",
       "      <td>834.57</td>\n",
       "      <td>1719.9301</td>\n",
       "    </tr>\n",
       "  </tbody>\n",
       "</table>\n",
       "</div>"
      ],
      "text/plain": [
       "   serial_number   Sector 1  Sector 2   Sector 4\n",
       "0              1  1411.0200    835.83  1756.5500\n",
       "1              2  1406.7500    837.81  1748.4100\n",
       "2              3  1406.8400    822.97  1740.2800\n",
       "3              4  1403.1801    822.97  1724.0000\n",
       "4              5  1408.4600    834.57  1719.9301"
      ]
     },
     "execution_count": 61,
     "metadata": {},
     "output_type": "execute_result"
    }
   ],
   "source": [
    "d_test.head()"
   ]
  },
  {
   "cell_type": "code",
   "execution_count": null,
   "metadata": {},
   "outputs": [],
   "source": []
  },
  {
   "cell_type": "code",
   "execution_count": 23,
   "metadata": {},
   "outputs": [
    {
     "data": {
      "text/html": [
       "<div>\n",
       "<style scoped>\n",
       "    .dataframe tbody tr th:only-of-type {\n",
       "        vertical-align: middle;\n",
       "    }\n",
       "\n",
       "    .dataframe tbody tr th {\n",
       "        vertical-align: top;\n",
       "    }\n",
       "\n",
       "    .dataframe thead th {\n",
       "        text-align: right;\n",
       "    }\n",
       "</style>\n",
       "<table border=\"1\" class=\"dataframe\">\n",
       "  <thead>\n",
       "    <tr style=\"text-align: right;\">\n",
       "      <th></th>\n",
       "      <th>Sector 1</th>\n",
       "      <th>Sector 2</th>\n",
       "      <th>Sector 4</th>\n",
       "    </tr>\n",
       "  </thead>\n",
       "  <tbody>\n",
       "    <tr>\n",
       "      <th>0</th>\n",
       "      <td>1411.0200</td>\n",
       "      <td>835.83</td>\n",
       "      <td>1756.5500</td>\n",
       "    </tr>\n",
       "    <tr>\n",
       "      <th>1</th>\n",
       "      <td>1406.7500</td>\n",
       "      <td>837.81</td>\n",
       "      <td>1748.4100</td>\n",
       "    </tr>\n",
       "    <tr>\n",
       "      <th>2</th>\n",
       "      <td>1406.8400</td>\n",
       "      <td>822.97</td>\n",
       "      <td>1740.2800</td>\n",
       "    </tr>\n",
       "    <tr>\n",
       "      <th>3</th>\n",
       "      <td>1403.1801</td>\n",
       "      <td>822.97</td>\n",
       "      <td>1724.0000</td>\n",
       "    </tr>\n",
       "    <tr>\n",
       "      <th>4</th>\n",
       "      <td>1408.4600</td>\n",
       "      <td>834.57</td>\n",
       "      <td>1719.9301</td>\n",
       "    </tr>\n",
       "  </tbody>\n",
       "</table>\n",
       "</div>"
      ],
      "text/plain": [
       "    Sector 1  Sector 2   Sector 4\n",
       "0  1411.0200    835.83  1756.5500\n",
       "1  1406.7500    837.81  1748.4100\n",
       "2  1406.8400    822.97  1740.2800\n",
       "3  1403.1801    822.97  1724.0000\n",
       "4  1408.4600    834.57  1719.9301"
      ]
     },
     "execution_count": 23,
     "metadata": {},
     "output_type": "execute_result"
    }
   ],
   "source": [
    "test_data = d_test.iloc[:, 2:5]\n",
    "test_data.head()"
   ]
  },
  {
   "cell_type": "code",
   "execution_count": null,
   "metadata": {},
   "outputs": [],
   "source": []
  },
  {
   "cell_type": "markdown",
   "metadata": {},
   "source": [
    "### Split into train and test :"
   ]
  },
  {
   "cell_type": "code",
   "execution_count": 25,
   "metadata": {},
   "outputs": [],
   "source": [
    "from sklearn.model_selection import train_test_split\n",
    "\n",
    "X_train, X_test, y_train, y_test = train_test_split(X, y, test_size = 0.665, \n",
    "                                                    random_state = 0)"
   ]
  },
  {
   "cell_type": "code",
   "execution_count": 26,
   "metadata": {},
   "outputs": [
    {
     "data": {
      "text/plain": [
       "((698, 3), (698, 1))"
      ]
     },
     "execution_count": 26,
     "metadata": {},
     "output_type": "execute_result"
    }
   ],
   "source": [
    "X_test.shape , y_test.shape"
   ]
  },
  {
   "cell_type": "code",
   "execution_count": 27,
   "metadata": {},
   "outputs": [
    {
     "data": {
      "text/plain": [
       "((351, 3), (351, 1))"
      ]
     },
     "execution_count": 27,
     "metadata": {},
     "output_type": "execute_result"
    }
   ],
   "source": [
    "X_train.shape , y_train.shape"
   ]
  },
  {
   "cell_type": "code",
   "execution_count": 28,
   "metadata": {},
   "outputs": [
    {
     "data": {
      "text/plain": [
       "((698, 3), (698, 3))"
      ]
     },
     "execution_count": 28,
     "metadata": {},
     "output_type": "execute_result"
    }
   ],
   "source": [
    "X_test.shape , test_data.shape"
   ]
  },
  {
   "cell_type": "markdown",
   "metadata": {},
   "source": [
    "## Linear Regression :"
   ]
  },
  {
   "cell_type": "code",
   "execution_count": 29,
   "metadata": {},
   "outputs": [
    {
     "data": {
      "text/plain": [
       "LinearRegression(copy_X=True, fit_intercept=True, n_jobs=None, normalize=False)"
      ]
     },
     "execution_count": 29,
     "metadata": {},
     "output_type": "execute_result"
    }
   ],
   "source": [
    "# Train the linear regression model on the Training set\n",
    "\n",
    "from sklearn.linear_model import LinearRegression\n",
    "regressor_LR = LinearRegression()\n",
    "regressor_LR.fit(X_train, y_train)"
   ]
  },
  {
   "cell_type": "code",
   "execution_count": 30,
   "metadata": {},
   "outputs": [],
   "source": [
    "### prediction on train dataset:\n",
    "\n",
    "y_pred_lr = regressor_LR.predict(X_test) #X_train\n",
    "np.set_printoptions(precision=2)"
   ]
  },
  {
   "cell_type": "code",
   "execution_count": 31,
   "metadata": {},
   "outputs": [
    {
     "data": {
      "text/plain": [
       "(698, 1)"
      ]
     },
     "execution_count": 31,
     "metadata": {},
     "output_type": "execute_result"
    }
   ],
   "source": [
    "y_pred_lr.shape"
   ]
  },
  {
   "cell_type": "code",
   "execution_count": 32,
   "metadata": {},
   "outputs": [
    {
     "name": "stdout",
     "output_type": "stream",
     "text": [
      "RMSE : 97.49306311000412\n",
      "R-sqr score : 76.23093272589252\n"
     ]
    }
   ],
   "source": [
    "from sklearn.metrics import r2_score , mean_squared_error\n",
    "\n",
    "print('RMSE :',np.sqrt(mean_squared_error(y_test, y_pred_lr)))\n",
    "\n",
    "print('R-sqr score :',r2_score(y_test, y_pred_lr)*100)\n",
    "\n",
    "\n",
    "\n",
    "#print('RMSE :',np.sqrt(mean_squared_error(y_train, y_pred_lr)))\n",
    "\n",
    "#print('R-sqr score :',r2_score(y_train, y_pred_lr)*100)"
   ]
  },
  {
   "cell_type": "code",
   "execution_count": null,
   "metadata": {},
   "outputs": [],
   "source": []
  },
  {
   "cell_type": "markdown",
   "metadata": {},
   "source": [
    "## Random Forest :"
   ]
  },
  {
   "cell_type": "code",
   "execution_count": 67,
   "metadata": {},
   "outputs": [
    {
     "name": "stderr",
     "output_type": "stream",
     "text": [
      "C:\\Users\\Vishal\\AppData\\Local\\Continuum\\anaconda3\\lib\\site-packages\\ipykernel_launcher.py:3: DataConversionWarning: A column-vector y was passed when a 1d array was expected. Please change the shape of y to (n_samples,), for example using ravel().\n",
      "  This is separate from the ipykernel package so we can avoid doing imports until\n",
      "[Parallel(n_jobs=-1)]: Using backend ThreadingBackend with 8 concurrent workers.\n",
      "[Parallel(n_jobs=-1)]: Done   6 out of  10 | elapsed:    0.0s remaining:    0.0s\n",
      "[Parallel(n_jobs=-1)]: Done  10 out of  10 | elapsed:    0.0s finished\n"
     ]
    },
    {
     "data": {
      "text/plain": [
       "RandomForestRegressor(bootstrap=True, criterion='mse', max_depth=None,\n",
       "                      max_features='auto', max_leaf_nodes=None,\n",
       "                      min_impurity_decrease=0.0, min_impurity_split=None,\n",
       "                      min_samples_leaf=1, min_samples_split=2,\n",
       "                      min_weight_fraction_leaf=0.0, n_estimators=10, n_jobs=-1,\n",
       "                      oob_score=False, random_state=0, verbose=1,\n",
       "                      warm_start=False)"
      ]
     },
     "execution_count": 67,
     "metadata": {},
     "output_type": "execute_result"
    }
   ],
   "source": [
    "from sklearn.ensemble import RandomForestRegressor\n",
    "regressor_RF = RandomForestRegressor(n_estimators = 10, random_state = 0, verbose=1, n_jobs=-1)\n",
    "regressor_RF.fit(X_train, y_train)"
   ]
  },
  {
   "cell_type": "code",
   "execution_count": 68,
   "metadata": {},
   "outputs": [
    {
     "name": "stderr",
     "output_type": "stream",
     "text": [
      "[Parallel(n_jobs=8)]: Using backend ThreadingBackend with 8 concurrent workers.\n",
      "[Parallel(n_jobs=8)]: Done   6 out of  10 | elapsed:    0.0s remaining:    0.0s\n",
      "[Parallel(n_jobs=8)]: Done  10 out of  10 | elapsed:    0.0s finished\n"
     ]
    }
   ],
   "source": [
    "y_pred_rf = regressor_RF.predict(X_test)\n",
    "np.set_printoptions(precision=2)"
   ]
  },
  {
   "cell_type": "code",
   "execution_count": 69,
   "metadata": {},
   "outputs": [
    {
     "data": {
      "text/plain": [
       "((698, 3), (698, 3))"
      ]
     },
     "execution_count": 69,
     "metadata": {},
     "output_type": "execute_result"
    }
   ],
   "source": [
    "X_test.shape, test_data.shape"
   ]
  },
  {
   "cell_type": "code",
   "execution_count": 70,
   "metadata": {},
   "outputs": [
    {
     "data": {
      "text/plain": [
       "(698,)"
      ]
     },
     "execution_count": 70,
     "metadata": {},
     "output_type": "execute_result"
    }
   ],
   "source": [
    "y_pred_rf.shape"
   ]
  },
  {
   "cell_type": "code",
   "execution_count": 71,
   "metadata": {},
   "outputs": [
    {
     "name": "stdout",
     "output_type": "stream",
     "text": [
      "RMSE : 24.255636992575884\n",
      "R-sqr score : 98.52873779892667\n"
     ]
    }
   ],
   "source": [
    "from sklearn.metrics import r2_score, mean_squared_error\n",
    "\n",
    "print('RMSE :',np.sqrt(mean_squared_error(y_test, y_pred_rf)))   # for train data\n",
    "\n",
    "print('R-sqr score :',r2_score(y_test, y_pred_rf)*100)"
   ]
  },
  {
   "cell_type": "markdown",
   "metadata": {},
   "source": [
    "#### Prediction on 'test-data' :"
   ]
  },
  {
   "cell_type": "code",
   "execution_count": 72,
   "metadata": {},
   "outputs": [
    {
     "name": "stdout",
     "output_type": "stream",
     "text": [
      "RMSE on test data : 251.40071897320144\n"
     ]
    },
    {
     "name": "stderr",
     "output_type": "stream",
     "text": [
      "[Parallel(n_jobs=8)]: Using backend ThreadingBackend with 8 concurrent workers.\n",
      "[Parallel(n_jobs=8)]: Done   6 out of  10 | elapsed:    0.0s remaining:    0.0s\n",
      "[Parallel(n_jobs=8)]: Done  10 out of  10 | elapsed:    0.0s finished\n"
     ]
    }
   ],
   "source": [
    "y_pred_rf_test = regressor_RF.predict(test_data)\n",
    "\n",
    "print('RMSE on test data :',np.sqrt(mean_squared_error(y_test, y_pred_rf_test)))    # for test data"
   ]
  },
  {
   "cell_type": "code",
   "execution_count": null,
   "metadata": {},
   "outputs": [],
   "source": []
  },
  {
   "cell_type": "markdown",
   "metadata": {},
   "source": [
    "## Decision Tree regression :"
   ]
  },
  {
   "cell_type": "code",
   "execution_count": 73,
   "metadata": {},
   "outputs": [
    {
     "data": {
      "text/plain": [
       "DecisionTreeRegressor(criterion='mse', max_depth=None, max_features=None,\n",
       "                      max_leaf_nodes=None, min_impurity_decrease=0.0,\n",
       "                      min_impurity_split=None, min_samples_leaf=1,\n",
       "                      min_samples_split=2, min_weight_fraction_leaf=0.0,\n",
       "                      presort=False, random_state=0, splitter='best')"
      ]
     },
     "execution_count": 73,
     "metadata": {},
     "output_type": "execute_result"
    }
   ],
   "source": [
    "from sklearn.tree import DecisionTreeRegressor\n",
    "regressor_DT = DecisionTreeRegressor(random_state = 0)\n",
    "regressor_DT.fit(X_train, y_train)"
   ]
  },
  {
   "cell_type": "code",
   "execution_count": 74,
   "metadata": {},
   "outputs": [],
   "source": [
    "#y_pred_dt_test = regressor_DT.predict(X_test)\n",
    "\n",
    "y_pred_dt_test = regressor_DT.predict(test_data)"
   ]
  },
  {
   "cell_type": "code",
   "execution_count": 75,
   "metadata": {},
   "outputs": [
    {
     "name": "stdout",
     "output_type": "stream",
     "text": [
      "RMSE : 323.29655462428445\n"
     ]
    }
   ],
   "source": [
    "print('RMSE :',np.sqrt(mean_squared_error(y_test, y_pred_dt_test)))    # for test data"
   ]
  },
  {
   "cell_type": "code",
   "execution_count": null,
   "metadata": {},
   "outputs": [],
   "source": []
  },
  {
   "cell_type": "markdown",
   "metadata": {},
   "source": [
    "## Importing the sample_submission.csv :"
   ]
  },
  {
   "cell_type": "code",
   "execution_count": 76,
   "metadata": {},
   "outputs": [],
   "source": [
    "sample = pd.read_csv('fs1_sample_submission.csv')"
   ]
  },
  {
   "cell_type": "code",
   "execution_count": 95,
   "metadata": {},
   "outputs": [],
   "source": [
    "sample['Sector 4'] = y_pred_rf_test"
   ]
  },
  {
   "cell_type": "markdown",
   "metadata": {},
   "source": [
    "- here i took Random Forest predicted values because it has less RMSE score"
   ]
  },
  {
   "cell_type": "code",
   "execution_count": 96,
   "metadata": {},
   "outputs": [],
   "source": [
    "result = sample.drop(['Sector 3'], axis = 1) \n",
    "result.rename(columns={'Sector 4':'Sector 3'}, inplace=True)"
   ]
  },
  {
   "cell_type": "code",
   "execution_count": 97,
   "metadata": {},
   "outputs": [
    {
     "data": {
      "text/html": [
       "<div>\n",
       "<style scoped>\n",
       "    .dataframe tbody tr th:only-of-type {\n",
       "        vertical-align: middle;\n",
       "    }\n",
       "\n",
       "    .dataframe tbody tr th {\n",
       "        vertical-align: top;\n",
       "    }\n",
       "\n",
       "    .dataframe thead th {\n",
       "        text-align: right;\n",
       "    }\n",
       "</style>\n",
       "<table border=\"1\" class=\"dataframe\">\n",
       "  <thead>\n",
       "    <tr style=\"text-align: right;\">\n",
       "      <th></th>\n",
       "      <th>serial_number</th>\n",
       "      <th>Sector 3</th>\n",
       "    </tr>\n",
       "  </thead>\n",
       "  <tbody>\n",
       "    <tr>\n",
       "      <th>0</th>\n",
       "      <td>1</td>\n",
       "      <td>1954.019</td>\n",
       "    </tr>\n",
       "    <tr>\n",
       "      <th>1</th>\n",
       "      <td>2</td>\n",
       "      <td>1954.019</td>\n",
       "    </tr>\n",
       "    <tr>\n",
       "      <th>2</th>\n",
       "      <td>3</td>\n",
       "      <td>1954.019</td>\n",
       "    </tr>\n",
       "    <tr>\n",
       "      <th>3</th>\n",
       "      <td>4</td>\n",
       "      <td>1954.019</td>\n",
       "    </tr>\n",
       "    <tr>\n",
       "      <th>4</th>\n",
       "      <td>5</td>\n",
       "      <td>1954.019</td>\n",
       "    </tr>\n",
       "  </tbody>\n",
       "</table>\n",
       "</div>"
      ],
      "text/plain": [
       "   serial_number  Sector 3\n",
       "0              1  1954.019\n",
       "1              2  1954.019\n",
       "2              3  1954.019\n",
       "3              4  1954.019\n",
       "4              5  1954.019"
      ]
     },
     "execution_count": 97,
     "metadata": {},
     "output_type": "execute_result"
    }
   ],
   "source": [
    "final_result = result\n",
    "final_result = final_result.round({\"Sector 3\":4})\n",
    "#final_result = final_result.drop(['Unnamed: 0','Unnamed: 0.1','Unnamed: 0.1.1'], axis = 1)\n",
    "final_result.head()"
   ]
  },
  {
   "cell_type": "code",
   "execution_count": 98,
   "metadata": {},
   "outputs": [],
   "source": [
    "final_result.to_csv('fs1_final_sample_submission.csv')"
   ]
  },
  {
   "cell_type": "code",
   "execution_count": null,
   "metadata": {},
   "outputs": [],
   "source": []
  },
  {
   "cell_type": "code",
   "execution_count": null,
   "metadata": {},
   "outputs": [],
   "source": []
  },
  {
   "cell_type": "code",
   "execution_count": null,
   "metadata": {},
   "outputs": [],
   "source": []
  }
 ],
 "metadata": {
  "kernelspec": {
   "display_name": "Python 3",
   "language": "python",
   "name": "python3"
  },
  "language_info": {
   "codemirror_mode": {
    "name": "ipython",
    "version": 3
   },
   "file_extension": ".py",
   "mimetype": "text/x-python",
   "name": "python",
   "nbconvert_exporter": "python",
   "pygments_lexer": "ipython3",
   "version": "3.7.4"
  }
 },
 "nbformat": 4,
 "nbformat_minor": 2
}
